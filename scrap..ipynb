{
 "cells": [
  {
   "cell_type": "code",
   "execution_count": 105,
   "metadata": {},
   "outputs": [],
   "source": [
    "import requests\n",
    "from bs4 import BeautifulSoup\n"
   ]
  },
  {
   "cell_type": "code",
   "execution_count": 189,
   "metadata": {},
   "outputs": [],
   "source": [
    "URL = \"https://www.mon-horoscope-du-jour.com/horoscopes/quotidien/poissons.htm\"\n",
    "page = requests.get(URL)\n",
    "\n",
    "# print(page.text)\n",
    "soup = BeautifulSoup(page.content, \"html.parser\")\n",
    "\n",
    "\n",
    "#print(soup.prettify())\n",
    "trucs = soup.find_all('span',class_=\"horo_content_stof\")\n",
    "titles = soup.find_all('h3')\n",
    "paragraphes  = soup.find_all('div' , class_=\"horo_content_c\")\n",
    "#paragraphes = paragraphes.find_all('p',class_=\"horo_content_c\")\n",
    "#print(trucs [3].prettify())"
   ]
  },
  {
   "cell_type": "code",
   "execution_count": 191,
   "metadata": {},
   "outputs": [
    {
     "name": "stdout",
     "output_type": "stream",
     "text": [
      "•Ce sont vos enfants, si vous en avez qui vous donneront entière satisfaction durant cette journée. Grâce à eux vous trouverez de la motivation. La journée devrait vous apporter son lot de bonnes surprises. Vos énergies sont à la hausse.\n",
      "•Une fringale affective pourrait vous tenter au cours de cette journée. L'amour ou à défaut les possessions pourraient s'activer en votre esprit à l'affût des bonnes choses. « Faute de grive on mangera du merle » votre devise aujourd'hui !\n",
      "•Vous prenez d'excellentes décisions en ce moment et vous enrichissez votre patrimoine avec beaucoup de sérieux. Votre entêtement passe pour de la maturité et pousse les investisseurs à vous suivre dans vos projets, c'est l'occasion de prouver votre efficacité.\n",
      "•Cette journée est parfaite à l'éclosion de vos potentiels créatifs, à l'expression concrète de vos capacités, pour commencer un projet nouveau ou au contraire, en clôturer d'autres qui en ont besoin. Les astres sont avec vous profitez-en !\n",
      "•Durant vos temps de pause, vous fuyez les ambiances animées et privilégiez les endroits apaisants et intimistes. Pour vous détendre, vous misez sur les activités sportives en plein air comme la marche nordique, la course à pied ou le vélo.\n",
      "•Des personnes plus jeunes ou au contraire plus âgées pourraient vous demander conseil. Vous savez faire passer des leçons sans trop de difficultés et même avec diplomatie. Vos aptitudes pédagogiques sont certaines.\n",
      "Humeur\n",
      "1/5\n",
      "Amour\n",
      "1/5\n",
      "Argent\n",
      "5/5\n",
      "Travail\n",
      "5/5\n",
      "Loisirs\n",
      "1/5\n"
     ]
    }
   ],
   "source": [
    "for paragraphe in paragraphes:\n",
    "    paragraphe = paragraphe.find('p')\n",
    "    print('•' +  paragraphe.text)\n",
    "\n",
    "i = 0\n",
    "for truc in trucs:\n",
    "    print(titles[i].text)\n",
    "    i = i +1\n",
    "    if truc.text == \"★\":\n",
    "        print(\"1/5\")\n",
    "    elif truc.text == \"★★\":\n",
    "        print(\"2/5\")\n",
    "    elif truc.text == \"★★★\":\n",
    "        print(\"3/5\")\n",
    "    elif truc.text == \"★★★★\":\n",
    "        print(\"4/5\")\n",
    "    else:\n",
    "        print(\"5/5\")\n",
    "        "
   ]
  },
  {
   "cell_type": "code",
   "execution_count": 101,
   "metadata": {},
   "outputs": [
    {
     "name": "stdout",
     "output_type": "stream",
     "text": [
      "La Lune en Taureau et Vénus en Scorpion vous font chercher la perle rare ! La réussite de votre vie affective compte. Écoutez votre intuition pour choisir.\n"
     ]
    }
   ],
   "source": [
    "reqText1 = soup.find('p').text\n",
    "print(reqText1)"
   ]
  }
 ],
 "metadata": {
  "kernelspec": {
   "display_name": "Python 3.10.7 64-bit",
   "language": "python",
   "name": "python3"
  },
  "language_info": {
   "codemirror_mode": {
    "name": "ipython",
    "version": 3
   },
   "file_extension": ".py",
   "mimetype": "text/x-python",
   "name": "python",
   "nbconvert_exporter": "python",
   "pygments_lexer": "ipython3",
   "version": "3.10.7"
  },
  "orig_nbformat": 4,
  "vscode": {
   "interpreter": {
    "hash": "121b1474690f9d97ef5278645eedec89e7310cb89833bc6ec46b0bc40e1e5971"
   }
  }
 },
 "nbformat": 4,
 "nbformat_minor": 2
}
