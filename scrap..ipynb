{
 "cells": [
  {
   "cell_type": "code",
   "execution_count": 64,
   "metadata": {},
   "outputs": [],
   "source": [
    "import urllib\n",
    "import bs4\n",
    "import requests\n",
    "from bs4 import BeautifulSoup\n"
   ]
  },
  {
   "cell_type": "code",
   "execution_count": 87,
   "metadata": {},
   "outputs": [
    {
     "name": "stdout",
     "output_type": "stream",
     "text": [
      "<div class=\"DailyRating_content__XuElW\">\n",
      " <span>\n",
      "  BIEN-ÊTRE\n",
      " </span>\n",
      " <strong>\n",
      "  0\n",
      "  <sup>\n",
      "   %\n",
      "  </sup>\n",
      " </strong>\n",
      "</div>\n"
     ]
    }
   ],
   "source": [
    "URL = \"https://www.horoscope.fr/horoscopes/aujourdhui/poissons\"\n",
    "page = requests.get(URL)\n",
    "\n",
    "# print(page.text)\n",
    "soup = BeautifulSoup(page.content, \"html.parser\")\n",
    "\n",
    "results = soup.find(id=\"ResultsContainer\")\n",
    "\n",
    "#print(soup.prettify())\n",
    "trucs = soup.find_all('div',class_=\"DailyRating_content__XuElW\")\n",
    "print(truc [3].prettify())"
   ]
  },
  {
   "cell_type": "code",
   "execution_count": 89,
   "metadata": {},
   "outputs": [
    {
     "name": "stdout",
     "output_type": "stream",
     "text": [
      "<div class=\"DailyRating_content__XuElW\">\n",
      " <span>\n",
      "  AMBIANCE\n",
      " </span>\n",
      " <strong>\n",
      "  0\n",
      "  <sup>\n",
      "   %\n",
      "  </sup>\n",
      " </strong>\n",
      "</div>\n",
      "<div class=\"DailyRating_content__XuElW\">\n",
      " <span>\n",
      "  AMOUR\n",
      " </span>\n",
      " <strong>\n",
      "  0\n",
      "  <sup>\n",
      "   %\n",
      "  </sup>\n",
      " </strong>\n",
      "</div>\n",
      "<div class=\"DailyRating_content__XuElW\">\n",
      " <span>\n",
      "  TRAVAIL\n",
      " </span>\n",
      " <strong>\n",
      "  0\n",
      "  <sup>\n",
      "   %\n",
      "  </sup>\n",
      " </strong>\n",
      "</div>\n",
      "<div class=\"DailyRating_content__XuElW\">\n",
      " <span>\n",
      "  BIEN-ÊTRE\n",
      " </span>\n",
      " <strong>\n",
      "  0\n",
      "  <sup>\n",
      "   %\n",
      "  </sup>\n",
      " </strong>\n",
      "</div>\n",
      "<div class=\"DailyRating_content__XuElW\">\n",
      " <span>\n",
      "  VIE SOCIALE\n",
      " </span>\n",
      " <strong>\n",
      "  0\n",
      "  <sup>\n",
      "   %\n",
      "  </sup>\n",
      " </strong>\n",
      "</div>\n",
      "<div class=\"DailyRating_content__XuElW\">\n",
      " <span>\n",
      "  FINANCES\n",
      " </span>\n",
      " <strong>\n",
      "  0\n",
      "  <sup>\n",
      "   %\n",
      "  </sup>\n",
      " </strong>\n",
      "</div>\n"
     ]
    }
   ],
   "source": [
    "for truc in trucs:\n",
    "    print(truc.prettify())"
   ]
  }
 ],
 "metadata": {
  "kernelspec": {
   "display_name": "Python 3.10.7 64-bit",
   "language": "python",
   "name": "python3"
  },
  "language_info": {
   "codemirror_mode": {
    "name": "ipython",
    "version": 3
   },
   "file_extension": ".py",
   "mimetype": "text/x-python",
   "name": "python",
   "nbconvert_exporter": "python",
   "pygments_lexer": "ipython3",
   "version": "3.10.7"
  },
  "orig_nbformat": 4,
  "vscode": {
   "interpreter": {
    "hash": "121b1474690f9d97ef5278645eedec89e7310cb89833bc6ec46b0bc40e1e5971"
   }
  }
 },
 "nbformat": 4,
 "nbformat_minor": 2
}
