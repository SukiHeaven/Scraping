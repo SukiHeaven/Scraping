{
 "cells": [
  {
   "cell_type": "code",
   "execution_count": 20,
   "metadata": {},
   "outputs": [],
   "source": [
    "import requests\n",
    "from bs4 import BeautifulSoup as bs\n",
    "from datetime import datetime\n",
    "import pandas as pd\n",
    "import json\n",
    "import mysql.connector"
   ]
  },
  {
   "cell_type": "markdown",
   "metadata": {},
   "source": [
    "On prend l'url de la page souhaité et on récupére tout son HTML.\n",
    "Ici je récupère la première apparation du tag <h3> grace a find. \n",
    "Mais aussi tout les tag <span> qui se trouve dans se HTML grace a find_all."
   ]
  },
  {
   "cell_type": "code",
   "execution_count": 57,
   "metadata": {},
   "outputs": [
    {
     "name": "stdout",
     "output_type": "stream",
     "text": [
      "[<span class=\"horo_content_stof\"></span>, <span class=\"horo_content_stof\">★★</span>, <span class=\"horo_content_stof\">★</span>, <span class=\"horo_content_stof\"></span>, <span class=\"horo_content_stof\"></span>]\n",
      "<h3>\n",
      " Humeur\n",
      "</h3>\n",
      "\n"
     ]
    }
   ],
   "source": [
    "URL = \"https://www.mon-horoscope-du-jour.com/horoscopes/quotidien/poissons.htm\"\n",
    "page = requests.get(URL)\n",
    "soup = bs(page.content, \"html.parser\")\n",
    "h3 = soup.find('h3')\n",
    "span = soup.find_all('span',class_=\"horo_content_stof\")\n",
    "print(span)\n",
    "print(h3.prettify())"
   ]
  },
  {
   "cell_type": "code",
   "execution_count": 48,
   "metadata": {},
   "outputs": [
    {
     "name": "stdout",
     "output_type": "stream",
     "text": [
      "   rating        title                                            iconUrl  \\\n",
      "0       5        AMOUR  https://cdn.tlmq.fr/mbe/horoscope/rating_5_v1.png   \n",
      "1       3      TRAVAIL  https://cdn.tlmq.fr/mbe/horoscope/rating_3_v1.png   \n",
      "2       5    BIEN-ÊTRE  https://cdn.tlmq.fr/mbe/horoscope/rating_5_v1.png   \n",
      "3       5  VIE SOCIALE  https://cdn.tlmq.fr/mbe/horoscope/rating_5_v1.png   \n",
      "4       4     AMBIANCE  https://cdn.tlmq.fr/mbe/horoscope/rating_4_v1.png   \n",
      "5       4     FINANCES  https://cdn.tlmq.fr/mbe/horoscope/rating_4_v1.png   \n",
      "\n",
      "  titleColor     anchorId  \n",
      "0       #000         love  \n",
      "1       #000       career  \n",
      "2       #000    wellbeing  \n",
      "3       #000  social_life  \n",
      "4       #000         mood  \n",
      "5       #000     finances  \n",
      "0    [{'id': 'mood.astro_mood', 'title': 'Votre act...\n",
      "1    [{'id': 'love.in_relationship', 'title': 'Si v...\n",
      "2    [{'id': 'career.work', 'title': 'Votre travail...\n",
      "3    [{'id': 'wellbeing.wellbeing', 'title': 'Votre...\n",
      "4    [{'id': 'social_life.family', 'title': 'Votre ...\n",
      "5    [{'id': 'moon.house', 'title': 'Votre maison',...\n",
      "6    [{'id': 'compatibility.like', 'title': 'j'aime...\n",
      "7    [{'id': 'bonus.flower', 'title': 'Votre fleur'...\n",
      "8                                                   []\n",
      "Name: sections, dtype: object\n"
     ]
    }
   ],
   "source": [
    "headers = {\n",
    "'User-Agent': 'Mozilla/5.0 (X11; Linux x86_64) AppleWebKit/537.36 (KHTML, like Gecko) Chrome/104.0.5112.79 Safari/537.36'\n",
    "}\n",
    "\n",
    "url = 'https://www.horoscope.fr/horoscopes/aujourdhui/poissons'\n",
    "\n",
    "r = requests.get(url, headers=headers)\n",
    "soup = bs(r.text, 'html.parser')\n",
    "data = json.loads(soup.select_one('script[id=\"__NEXT_DATA__\"]').text)\n",
    "magic_stuffs = data['props']['pageProps']['initialProps']['horoscope']['overviews']\n",
    "other_stuffs = data['props']['pageProps']['initialProps']['horoscope']['contents']\n",
    "df = pd.json_normalize(magic_stuffs)\n",
    "dd = pd.json_normalize(other_stuffs)\n",
    "print(df)\n",
    "print(dd['sections'])\n"
   ]
  },
  {
   "cell_type": "code",
   "execution_count": 214,
   "metadata": {},
   "outputs": [
    {
     "name": "stdout",
     "output_type": "stream",
     "text": [
      "•Vous devez sérieusement veiller à vos dépenses et ne pas vous laisser tenter exagérément par le luxe et la volupté. Tous les excès se paient un jour, parfois sur la balance de la salle de bains, parfois sur les relevés de compte...\n",
      "•Vous devez prendre d'importantes décisions dans vos relations sentimentales ne doivent pas vous empêcher d'avancer. Seules vous conviennent les relations qui s'harmonisent avec votre avenir et qui ne vous obligent pas à laisser passer les opportunités.\n",
      "•Il vous faudra aujourd'hui encore poser vos limites avec fermeté pour ne pas vous faire ponctionner. De plus, il faudra surmonter une opposition pour chasser un malentendu. Vous pourrez éclaircir les choses dans la bonne direction, avec une bonne dose de calme.\n",
      "•Si l'on vous propose un temps de formation ou d'enrichir votre fiche de poste, n'hésitez pas. L'offre peut être pertinente, vous aurez ainsi l'occasion de développer vos connaissances. Il n'est pas négligeable, d'ajouter une corde à son arc.\n",
      "•Vous n'avez pas suffisamment de peps pour participer à des activités collectives. Pas de panique ! Profitez de vos temps de pause pour vous ressourcer dans votre nid douillet. Occupez-vous de votre intérieur, de votre jardin. Lisez et baladez-vous.\n",
      "•Vous avez de l'humour et une vision très personnelle des situations. Soyez prudent vous pourriez cumuler les gaffes. Bien entendu, vous ne ferez pas exprès, mais vous auriez des ennemis jurés !\n",
      "Humeur\n",
      "2/5\n",
      "Amour\n",
      "3/5\n",
      "Argent\n",
      "1/5\n",
      "Travail\n",
      "1/5\n",
      "Loisirs\n",
      "0/5\n"
     ]
    }
   ],
   "source": [
    "for paragraphe in paragraphes:\n",
    "    paragraphe = paragraphe.find('p')\n",
    "    print('•' +  paragraphe.text)\n",
    "\n",
    "i = 0\n",
    "for truc in trucs:\n",
    "    print(titles[i].text)\n",
    "    i = i +1\n",
    "    if truc.text == '':        \n",
    "        print(\"5/5\")\n",
    "    elif truc.text == \"★\":\n",
    "        print(\"4/5\")\n",
    "    elif truc.text == \"★★\":\n",
    "        print(\"3/5\")\n",
    "    elif truc.text == \"★★★\":\n",
    "        print(\"2/5\")\n",
    "    elif truc.text == \"★★★★\":\n",
    "        print(\"1/5\")\n",
    "    else:\n",
    "        print(\"0/5\")\n",
    "        "
   ]
  },
  {
   "cell_type": "code",
   "execution_count": 101,
   "metadata": {},
   "outputs": [
    {
     "name": "stdout",
     "output_type": "stream",
     "text": [
      "La Lune en Taureau et Vénus en Scorpion vous font chercher la perle rare ! La réussite de votre vie affective compte. Écoutez votre intuition pour choisir.\n"
     ]
    }
   ],
   "source": [
    "reqText1 = soup.find('p').text\n",
    "print(reqText1)\n"
   ]
  },
  {
   "cell_type": "code",
   "execution_count": 46,
   "metadata": {},
   "outputs": [
    {
     "name": "stdout",
     "output_type": "stream",
     "text": [
      "Connected\n",
      "('https://www.horoscope.fr/horoscopes/aujourdhui/poissons', 'TRAVAIL', 'TRAVAIL', \"Le célibat peut cesser rapidement. Un coup de foudre est tout à fait possible. Il peut venir d'une attraction physique. Une personne avec un puissant magnétisme peut faire tourner votre tête. Écoutez vos pulsions. Ce désir peut vous entraîner vers une aventure. Vous pouvez faire le premier pas pour provoquer le destin\\xa0! De belles émotions vous attendent.\", '5', datetime.datetime(2022, 11, 10, 13, 8, 13, 82316))\n"
     ]
    }
   ],
   "source": [
    "cnx = mysql.connector.connect(user='suki', password='537164',\n",
    "                              host='127.0.0.1',\n",
    "                              database='magic8ball')\n",
    "print (\"Connected\")\n",
    "\n",
    "cursor = cnx.cursor()\n",
    "\n",
    "add_horoscope = (\"INSERT INTO horoscopes\" +\n",
    "               \"(site, type, title, text, rating,created_at) \"\n",
    "               \"VALUES (%s,%s,%s,%s,%s,%s)\")\n",
    "\n",
    "id = int(1)\n",
    "site = url\n",
    "type = str(df['title'][1])\n",
    "title =  str(df['title'][1])\n",
    "text =  str(dd['sections'][1][1]['text'])\n",
    "rating =  str(df['rating'][0])\n",
    "created_at = datetime.now()\n",
    "\n",
    "val = (site,type,title,text,rating,created_at)\n",
    "print(val)\n",
    "# Insert new employee\n",
    "cursor.execute(add_horoscope,val)\n",
    "cnx.commit()"
   ]
  }
 ],
 "metadata": {
  "kernelspec": {
   "display_name": "Python 3.10.7 64-bit",
   "language": "python",
   "name": "python3"
  },
  "language_info": {
   "codemirror_mode": {
    "name": "ipython",
    "version": 3
   },
   "file_extension": ".py",
   "mimetype": "text/x-python",
   "name": "python",
   "nbconvert_exporter": "python",
   "pygments_lexer": "ipython3",
   "version": "3.10.7"
  },
  "orig_nbformat": 4,
  "vscode": {
   "interpreter": {
    "hash": "121b1474690f9d97ef5278645eedec89e7310cb89833bc6ec46b0bc40e1e5971"
   }
  }
 },
 "nbformat": 4,
 "nbformat_minor": 2
}
